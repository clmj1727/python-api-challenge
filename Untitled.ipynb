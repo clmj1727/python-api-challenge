{
 "cells": [
  {
   "cell_type": "code",
   "execution_count": 1,
   "id": "9d1f8c18-1a3c-49ce-8a30-eb30f2099b27",
   "metadata": {},
   "outputs": [
    {
     "name": "stdout",
     "output_type": "stream",
     "text": [
      "Requirement already satisfied: citipy in /opt/anaconda3/lib/python3.11/site-packages (0.0.6)\n",
      "Requirement already satisfied: kdtree>=0.12 in /opt/anaconda3/lib/python3.11/site-packages (from citipy) (0.16)\n",
      "Note: you may need to restart the kernel to use updated packages.\n"
     ]
    }
   ],
   "source": [
    "pip install citipy"
   ]
  },
  {
   "cell_type": "code",
   "execution_count": null,
   "id": "18128726-2e5c-42f6-b660-48a4b5e5e2ab",
   "metadata": {},
   "outputs": [],
   "source": [
    "#import the citipy module\n",
    "from citipy import citipy\n"
   ]
  }
 ],
 "metadata": {
  "kernelspec": {
   "display_name": "Python 3 (ipykernel)",
   "language": "python",
   "name": "python3"
  },
  "language_info": {
   "codemirror_mode": {
    "name": "ipython",
    "version": 3
   },
   "file_extension": ".py",
   "mimetype": "text/x-python",
   "name": "python",
   "nbconvert_exporter": "python",
   "pygments_lexer": "ipython3",
   "version": "3.11.7"
  }
 },
 "nbformat": 4,
 "nbformat_minor": 5
}
